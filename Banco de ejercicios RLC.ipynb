{
 "cells": [
  {
   "cell_type": "markdown",
   "metadata": {},
   "source": [
    "# **Programa para resolver circuitos RLC serie sin fuente**\n",
    "<div>\n",
    "<img src=\"clase_RLC/RLC_serie.png\">\n",
    "</div>\n",
    "\n",
    "<font size=\"4\">Ecuación diferencial de segundo orden para la corriente del circuito:</font>  \n",
    "\n",
    "<font size=\"4\">$\\dfrac{d^2i}{dt^2}+\\dfrac{R}{L}\\dfrac{di}{dt}+\\dfrac{i}{LC}=0$</font>\n",
    "<hr>\n",
    "<font size=\"4\">Condiciones iniciales:</font>\n",
    "\n",
    "<font size=\"4\">$i(0)=I_0\\text{ ; }v(0)=V_0 \\text{ ; }\\dfrac{di(0)}{dt}=-\\dfrac{1}{L}(RI_0+V_0)$ </font> \n",
    "<hr>\n",
    "<font size=\"4\">A partir de la ecuación característica obtenemos el tipo de movimiento de la siguiente manera:</font>\n",
    "\n",
    "<font size=\"4\">$s_{1,2}=-\\dfrac{R}{2L}\\pm\\sqrt{\\left(\\dfrac{R}{2L}\\right)^2-\\dfrac{1}{LC}}$</font>\n",
    "<hr>\n",
    "<font size=\"4\">Reescribiendo la anterior ecuación se obtiente</font>\n",
    "\n",
    "<font size=\"4\">$s_{1,2}=-\\alpha\\pm\\sqrt{\\alpha^2-\\omega_0^2}$</font>  \n",
    "<font size=\"4\">$\\alpha = \\dfrac{R}{2L}\\text{ ; } \\omega_0 = \\dfrac{1}{\\sqrt{LC}}$</font>"
   ]
  },
  {
   "cell_type": "markdown",
   "metadata": {},
   "source": [
    "### Ejercicio de aplicación RLC serie\n",
    "<hr>\n",
    "<div>\n",
    "<img src=\"clase_RLC/RLC_serie_ej1.png\">\n",
    "</div>\n",
    "<hr>\n",
    "<font size=\"5\">Enunciado</font>  \n",
    "\n",
    "<font size=\"4\">$\\text{Hallar } i(t) \\text{ para el circuito de la figura anterior.}$</font>\n",
    "<hr>\n",
    "<font size=\"5\" color=\"green\">Solución</font>  \n",
    "<hr>\n",
    "<font size=\"4\">Primero se hallan las condiciones iniciales</font>  \n",
    "\n",
    "<font size=\"4\">$i(0)= \\dfrac{10}{4+6}=1 A \\text{ ; } v(0)= 6i(0)= 6 V$</font>\n",
    "\n",
    "<hr>\n",
    "\n",
    "<font size=\"4\">Para $t > 0$ se tiene entonces</font>  "
   ]
  },
  {
   "cell_type": "code",
   "execution_count": 19,
   "metadata": {},
   "outputs": [],
   "source": [
    "from sympy.interactive import printing\n",
    "printing.init_printing(use_latex=True)\n",
    "from sympy import *\n",
    "import sympy as sp\n",
    "import math\n",
    "\n",
    "##### Creación variable simbólica #####\n",
    "t = sp.symbols('t')\n",
    "\n",
    "#####  Constantes  #####\n",
    "R = float(9) # [OHM]\n",
    "C = float(20*10**(-3)) # [F]\n",
    "L = float(0.5) # [H]\n",
    "\n",
    "#####  Condiciones Iniciales  #####\n",
    "Vo = float(-6) # [V]\n",
    "Io = float(1) # [A]\n",
    "\n",
    "dio = float(-(Vo+R*Io)/L)"
   ]
  },
  {
   "cell_type": "markdown",
   "metadata": {},
   "source": [
    "<hr>\n",
    "<font size=\"5\" color=\"green\">1. Se encuentra la solución en términos de $C_1$ y $C_2$</font>  \n",
    "<hr>"
   ]
  },
  {
   "cell_type": "code",
   "execution_count": 20,
   "metadata": {},
   "outputs": [
    {
     "name": "stdout",
     "output_type": "stream",
     "text": [
      "Movimiento subamortiguado. alpha = 9.0000 ; omega = 10.0000\n",
      "Raices s_1 = -9.0000+j4.3589 ; s_2 = -9.0000+j4.3589\n"
     ]
    },
    {
     "data": {
      "image/png": "[encoded data removed]",
      "text/latex": [
       "$\\displaystyle \\left(C_{1} \\cos{\\left(4.359 t \\right)} + C_{2} \\sin{\\left(4.359 t \\right)}\\right) e^{- 9.0 t}$"
      ],
      "text/plain": [
       "                                     -9.0⋅t\n",
       "(C₁⋅cos(4.359⋅t) + C₂⋅sin(4.359⋅t))⋅ℯ      "
      ]
     },
     "execution_count": 20,
     "metadata": {},
     "output_type": "execute_result"
    }
   ],
   "source": [
    "##### Se identifica el tipo de movimiento  #####\n",
    "def ecuacionMovimiento(R,L,C,imprimeRaices=False):\n",
    "    alpha = R/(2*L)\n",
    "    omega = 1/math.sqrt(L*C)\n",
    "    discr = alpha**2 - omega**2\n",
    "    \n",
    "    y = sympify(\"0\")\n",
    "    if discr == 0:\n",
    "        if imprimeRaices:\n",
    "            print(\"Movimiento criticamente amortiguado. alpha = %.4f ; omega = %.4f\" % (alpha,omega))\n",
    "            print(\"Raices s_1,2 = %0.4f\"%(-alpha))\n",
    "            \n",
    "        y = sp.sympify(\"(C1*t+C2)*exp(-alpha*t)\")\n",
    "        y = y.subs(\"alpha\",format(float(alpha) , '.4' ))\n",
    "    elif discr > 0:\n",
    "        \n",
    "        s1 = -alpha + math.sqrt(discr)\n",
    "        s2 = -alpha + math.sqrt(discr)\n",
    "            \n",
    "        if imprimeRaices:\n",
    "            print(\"Movimiento sobreamortiguado. alpha = %.4f ; omega = %.4f\" % (alpha,omega))\n",
    "            print(\"Raices s_1 = %0.4f ; s2 = %0.4f\"%(s1,s2))\n",
    "        y = sp.sympify(\"C1*exp(s1*t)+C2*exp(s2*t)\")\n",
    "        y = y.subs(\"s1\",format(float(s1) , '.4' ) )\n",
    "        y = y.subs(\"s2\",format(float(s2) , '.4' ))\n",
    "    else:\n",
    "        \n",
    "        s1 = math.sqrt((-1)*discr)\n",
    "        omega_d = math.sqrt((-1)*discr)\n",
    "        if imprimeRaices:\n",
    "            print(\"Movimiento subamortiguado. alpha = %.4f ; omega = %.4f\" % (alpha,omega))\n",
    "            print(\"Raices s_1 = -%0.4f+j%0.4f ; s_2 = -%0.4f+j%0.4f\"%(alpha,omega_d,alpha,omega_d))\n",
    "            \n",
    "        y = sp.sympify(\"exp(-alpha*t)*( C1* cos(omega_d*t) + C2* sin(omega_d*t) )\")\n",
    "        y = y.subs(\"alpha\",format(float(alpha) , '.4' ))\n",
    "        y = y.subs(\"omega_d\",format(float(omega_d) , '.4' ) )\n",
    "    return y\n",
    "\n",
    "# Prueba de ejecución\n",
    "ecuacionMovimiento(R,L,C,True)"
   ]
  },
  {
   "cell_type": "markdown",
   "metadata": {},
   "source": [
    "<hr>\n",
    "<font size=\"5\" color=\"green\">2. Se deriva la ecuación diferencial</font>  \n",
    "<hr>"
   ]
  },
  {
   "cell_type": "code",
   "execution_count": 21,
   "metadata": {},
   "outputs": [
    {
     "data": {
      "image/png": "[encoded data removed]",
      "text/latex": [
       "$\\displaystyle \\left(- 4.359 C_{1} \\sin{\\left(4.359 t \\right)} + 4.359 C_{2} \\cos{\\left(4.359 t \\right)}\\right) e^{- 9.0 t} - 9.0 \\left(C_{1} \\cos{\\left(4.359 t \\right)} + C_{2} \\sin{\\left(4.359 t \\right)}\\right) e^{- 9.0 t}$"
      ],
      "text/plain": [
       "                                                  -9.0⋅t                      \n",
       "(-4.359⋅C₁⋅sin(4.359⋅t) + 4.359⋅C₂⋅cos(4.359⋅t))⋅ℯ       - 9.0⋅(C₁⋅cos(4.359⋅t\n",
       "\n",
       "                      -9.0⋅t\n",
       ") + C₂⋅sin(4.359⋅t))⋅ℯ      "
      ]
     },
     "execution_count": 21,
     "metadata": {},
     "output_type": "execute_result"
    }
   ],
   "source": [
    "#####  Se realiza la derivada de la solución  #####\n",
    "def derivada(y_t):\n",
    "    yp_t = y_t.diff(t)\n",
    "    return yp_t\n",
    "# Prueba de ejecución\n",
    "derivada(ecuacionMovimiento(R,L,C))"
   ]
  },
  {
   "cell_type": "markdown",
   "metadata": {},
   "source": [
    "<hr>\n",
    "<font size=\"5\" color=\"green\">3. Se encuentra el valor de las constantes</font>  \n",
    "<hr>"
   ]
  },
  {
   "cell_type": "code",
   "execution_count": 22,
   "metadata": {},
   "outputs": [
    {
     "data": {
      "image/png": "[encoded data removed]",
      "text/latex": [
       "$\\displaystyle \\left(0.6882 \\sin{\\left(4.359 t \\right)} + 1.0 \\cos{\\left(4.359 t \\right)}\\right) e^{- 9.0 t}$"
      ],
      "text/plain": [
       "                                          -9.0⋅t\n",
       "(0.6882⋅sin(4.359⋅t) + 1.0⋅cos(4.359⋅t))⋅ℯ      "
      ]
     },
     "execution_count": 22,
     "metadata": {},
     "output_type": "execute_result"
    }
   ],
   "source": [
    "#####  Se sustituyen las condiciones iniciales  #####\n",
    "def solucionSistema2x2(y,yp):\n",
    "    t, C1, C2 = symbols('t C1 C2')\n",
    "    f1 = y.subs(t,0)\n",
    "    f2 = yp.subs(t,0)\n",
    "\n",
    "    Eqns = [sympify(f1 - Io),sympify(f2 - dio)]\n",
    "    #####  Se obtiene la solución final  #####\n",
    "    x = linsolve(Eqns,C1,C2)\n",
    "\n",
    "    A1 = format(float ( x.args[0][0] ) , '.4' )\n",
    "    A2 = format(float ( x.args[0][1] ) , '.4' )\n",
    "    y = y.subs([(C1,A1),(C2,A2)])\n",
    "    return y\n",
    "solucionSistema2x2(ecuacionMovimiento(R,L,C),derivada(ecuacionMovimiento(R,L,C)))"
   ]
  },
  {
   "cell_type": "markdown",
   "metadata": {},
   "source": [
    "## <font color=\"blue\">Graficación de los datos</font>\n",
    "### Recordar asignar a f_t la variable a computar"
   ]
  },
  {
   "cell_type": "code",
   "execution_count": 23,
   "metadata": {},
   "outputs": [],
   "source": [
    "# Recordar asignar la variable a computar\n",
    "y_t = ecuacionMovimiento(R,L,C)\n",
    "yp_t = derivada(y_t)\n",
    "f_t = solucionSistema2x2(y_t,yp_t)"
   ]
  },
  {
   "cell_type": "code",
   "execution_count": 24,
   "metadata": {},
   "outputs": [],
   "source": [
    "## Cambiar variable a graficar y computar\n",
    "def unidades(x):#Función para deducir las unidades\n",
    "    return {\n",
    "        'us': 10**(-6),\n",
    "        'ms': 10**(-3),\n",
    "        's': 1\n",
    "    }.get(x, 1)\n",
    "\n",
    "def f(time):\n",
    "    y = np.zeros(len(time))\n",
    "    index = np.arange(len(time))\n",
    "    for ind in index:\n",
    "        y[ind] = float(f_t.subs(t,time[ind]))\n",
    "    return y"
   ]
  },
  {
   "cell_type": "code",
   "execution_count": 25,
   "metadata": {},
   "outputs": [],
   "source": [
    "from matplotlib.backends.backend_tkagg import (FigureCanvasTkAgg, NavigationToolbar2Tk)\n",
    "from matplotlib.backend_bases import key_press_handler\n",
    "from matplotlib.figure import Figure\n",
    "\n",
    "import numpy as np\n",
    "\n",
    "def graficacion(root,f_t,resolucion,xmax,evaluar_t,p1,canvas,valor_evaluado):\n",
    "    try:\n",
    "        # Se obtiene el to a evaluar\n",
    "        tmp_t1 = evaluar_t.split(\" \")\n",
    "        t1 = float(tmp_t1[0])\n",
    "        if len(tmp_t1) > 1:\n",
    "            t1 *= float( unidades(tmp_t1[1]) )\n",
    "        \n",
    "        # Se obtiene el tiempo máximo de simulación\n",
    "        tmp_xmax = xmax.split(\" \")\n",
    "        xmax = float(tmp_xmax[0])\n",
    "        if len(tmp_xmax) > 1:\n",
    "            xmax *= float( unidades(tmp_xmax[1]) )\n",
    "        \n",
    "        # Se obtiene la resolución del trazo\n",
    "        tmp_step = resolucion.split(\" \")\n",
    "        step = float(tmp_step[0])\n",
    "        if len(tmp_step) > 1:\n",
    "            step *= float( unidades(tmp_step[1]) )\n",
    "        \n",
    "        evaluacion_f_t = str(\"i( \"+tmp_t1[0]+\" [\"+tmp_t1[1]+\"] ) = %.4f [A]\" % f_t.subs(t,t1) )\n",
    "        valor_evaluado.config(text=evaluacion_f_t)\n",
    "        # Se grafican los datos\n",
    "        xmin = 0.0\n",
    "        x = np.arange(0.0,float(xmax),step) \n",
    "        y = f(x)\n",
    "        p1.clear()\n",
    "        p1.plot(x,y)\n",
    "        canvas.draw()\n",
    "        \n",
    "    except Exception as inst:\n",
    "        print(inst)\n",
    "        print(\"Error: Ingrese el parametro evaluar_t adecuadamente en el formato: <magnitud> <unidades: ms, us o s>, ejemplo: 100 ms\")"
   ]
  },
  {
   "cell_type": "code",
   "execution_count": 26,
   "metadata": {},
   "outputs": [],
   "source": [
    "def interfaz(root,f_t):\n",
    "    def _quit():\n",
    "        root.quit()     # stops mainloop\n",
    "        root.destroy()  # this is necessary on Windows to prevent\n",
    "                        # Fatal Python Error: PyEval_RestoreThread: NULL tstate\n",
    "\n",
    "    fig = Figure(figsize=(5, 4), dpi=100)\n",
    "    p1 = fig.add_subplot(111)\n",
    "\n",
    "    canvas = FigureCanvasTkAgg(fig, master=root)  # A tk.DrawingArea.\n",
    "    canvas.draw()\n",
    "    canvas.get_tk_widget().pack(side=tk.TOP, fill=tk.BOTH, expand=1)\n",
    "\n",
    "    toolbar = NavigationToolbar2Tk(canvas, root)\n",
    "    toolbar.update()\n",
    "    canvas.get_tk_widget().pack(side=tk.TOP, fill=tk.BOTH, expand=1)\n",
    "    \n",
    "    ###########################################\n",
    "    #####     Creación del formulario     #####\n",
    "    ###########################################\n",
    "\n",
    "    frame1 = tk.Frame(root)\n",
    "    frame1.config(relief=tk.SUNKEN)\n",
    "    frame1.pack(side = tk.BOTTOM, fill=tk.BOTH,expand = True)\n",
    "\n",
    "    ## Variables para retornar los valores desde la interfaz    \n",
    "    resolucion=tk.StringVar()\n",
    "    resolucion.set(\"1 ms\")\n",
    "    \n",
    "    xmax=tk.StringVar() \n",
    "    xmax.set(\"1.0 s\")\n",
    "    \n",
    "    evaluar_t=tk.StringVar() \n",
    "    evaluar_t.set(\"50 ms\")\n",
    "    \n",
    "    def submit(): \n",
    "\n",
    "        mRes=res_entry.get() \n",
    "        mXmax=xmax_entry.get() \n",
    "        mEvaluar_t=evaluar_t_entry.get()\n",
    "\n",
    "        # Se evalúa la función y se grafica\n",
    "        graficacion(root,f_t,mRes,mXmax,mEvaluar_t,p1,canvas,evaluar_t_label_res)\n",
    "\n",
    "    espacio_label = tk.Label(frame1, text = ' ', font=('calibre',12, 'bold'),padx=\"100\")\n",
    "    fun_label1 = tk.Label(frame1, text = 'f(t)', font=('calibre',12, 'bold'))\n",
    "    fun_label2 = tk.Label(frame1, text = f_t, font=('calibre',12, 'bold'))\n",
    "        \n",
    "    res_label = tk.Label(frame1, text = 'resolución', font=('calibre',12, 'bold')) \n",
    "    res_entry = tk.Entry(frame1, textvariable = resolucion,font=('calibre',12,'normal')) \n",
    "\n",
    "    xmax_label = tk.Label(frame1,text = 'x max simulación', font = ('calibre',12,'bold')) \n",
    "    xmax_entry=tk.Entry(frame1,textvariable = xmax,font = ('calibre',12,'normal'))\n",
    "    \n",
    "    evaluar_t_label = tk.Label(frame1,text = 'valor to para evaluar', font = ('calibre',12,'bold'))\n",
    "    evaluar_t_entry=tk.Entry(frame1,textvariable = evaluar_t,font = ('calibre',12,'normal'))\n",
    "    evaluar_t_label_res = tk.Label(frame1,text = ' ', font = ('calibre',12,'bold')) # Etiqueta del resultado\n",
    " \n",
    "    sub_btn=tk.Button(frame1,text = 'Calcular',command = submit,width=\"15\",font = ('arial',12,'normal'))\n",
    "    quit_btn = tk.Button(frame1, text=\"Salir\", command=_quit,width=\"15\",font = ('calibre',12,'normal'))\n",
    "\n",
    "    pos = 1\n",
    "    espacio_label.grid(row=pos,column=0) \n",
    "    fun_label1.grid(row=pos,column=1) \n",
    "    fun_label2.grid(row=pos,column=2) \n",
    "    pos+=1\n",
    "    res_label.grid(row=pos,column=1)\n",
    "    res_entry.grid(row=pos,column=2)\n",
    "    pos+=1\n",
    "    xmax_label.grid(row=pos,column=1) \n",
    "    xmax_entry.grid(row=pos,column=2)\n",
    "    pos+=1\n",
    "    evaluar_t_label.grid(row=pos,column=1) \n",
    "    evaluar_t_entry.grid(row=pos,column=2)\n",
    "    evaluar_t_label_res.grid(row=pos,column=3)\n",
    "    \n",
    "    pos+=1\n",
    "    sub_btn.grid(row=pos,column=1)\n",
    "    quit_btn.grid(row=pos,column=2)\n",
    "        \n",
    "    ###########################################\n",
    "    #=========================================#\n",
    "    ###########################################"
   ]
  },
  {
   "cell_type": "code",
   "execution_count": 27,
   "metadata": {},
   "outputs": [],
   "source": [
    "import tkinter as tk\n",
    "\n",
    "root = tk.Tk()\n",
    "root.wm_title(\"Solución circuitos RLC serie\")\n",
    "root.geometry('1100x590+100+50') \n",
    "root.resizable(1,1)\n",
    "\n",
    "try:    \n",
    "    #Creacion de la interfaz\n",
    "    interfaz(root,f_t)\n",
    "    \n",
    "except Exception as inst:\n",
    "    print(inst)\n",
    "    \n",
    "tk.mainloop()"
   ]
  }
 ],
 "metadata": {
  "kernelspec": {
   "display_name": "Python 3",
   "language": "python",
   "name": "python3"
  },
  "language_info": {
   "codemirror_mode": {
    "name": "ipython",
    "version": 3
   },
   "file_extension": ".py",
   "mimetype": "text/x-python",
   "name": "python",
   "nbconvert_exporter": "python",
   "pygments_lexer": "ipython3",
   "version": "3.8.3"
  }
 },
 "nbformat": 4,
 "nbformat_minor": 4
}
